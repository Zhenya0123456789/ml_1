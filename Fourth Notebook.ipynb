{
 "cells": [
  {
   "cell_type": "markdown",
   "id": "433ea2b4-6a01-4502-b7a2-bff75de01efa",
   "metadata": {},
   "source": [
    "# Взаимодействие с оболочкой системы"
   ]
  },
  {
   "cell_type": "code",
   "execution_count": 10,
   "id": "de5c4be7-1bb1-42b5-9d82-08ab0cc341dd",
   "metadata": {},
   "outputs": [
    {
     "name": "stdout",
     "output_type": "stream",
     "text": [
      " Том в устройстве C не имеет метки.\n",
      " Серийный номер тома: FE8A-519A\n",
      "\n",
      " Содержимое папки C:\\Users\\zenan_000\\Desktop\\python\\ml_1\n",
      "\n",
      "29.05.2025  23:24    <DIR>          .\n",
      "29.05.2025  23:24    <DIR>          ..\n",
      "22.05.2025  16:46             3 617 .gitignore\n",
      "29.05.2025  23:21    <DIR>          .ipynb_checkpoints\n",
      "29.05.2025  23:07             3 553 Fifth Notebook.ipynb\n",
      "29.05.2025  23:24            32 132 First Notebook.ipynb\n",
      "29.05.2025  23:20             2 675 Fourth Notebook.ipynb\n",
      "22.05.2025  16:46             1 094 LICENSE\n",
      "29.05.2025  23:23           575 361 photo.jpg\n",
      "22.05.2025  16:46                 6 README.md\n",
      "29.05.2025  21:27                47 script.py\n",
      "29.05.2025  23:24             3 757 Second Notebook.ipynb\n",
      "29.05.2025  21:28            11 331 Third Notebook.ipynb\n",
      "              10 файлов        633 573 байт\n",
      "               3 папок  88 249 393 152 байт свободно\n"
     ]
    }
   ],
   "source": [
    "!dir"
   ]
  },
  {
   "cell_type": "code",
   "execution_count": 8,
   "id": "6b137ab8-d703-4c85-bd9b-9e5f7434f359",
   "metadata": {},
   "outputs": [],
   "source": [
    "!mkdir test_papka\n"
   ]
  },
  {
   "cell_type": "code",
   "execution_count": 9,
   "id": "90e22164-b86d-4d22-89da-05f79a33a8a5",
   "metadata": {},
   "outputs": [],
   "source": [
    "!rmdir test_papka"
   ]
  }
 ],
 "metadata": {
  "kernelspec": {
   "display_name": "Python [conda env:base] *",
   "language": "python",
   "name": "conda-base-py"
  },
  "language_info": {
   "codemirror_mode": {
    "name": "ipython",
    "version": 3
   },
   "file_extension": ".py",
   "mimetype": "text/x-python",
   "name": "python",
   "nbconvert_exporter": "python",
   "pygments_lexer": "ipython3",
   "version": "3.12.7"
  }
 },
 "nbformat": 4,
 "nbformat_minor": 5
}
