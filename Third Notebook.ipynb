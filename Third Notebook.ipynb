{
 "cells": [
  {
   "cell_type": "markdown",
   "id": "ed0f2e56-f89d-4f15-af47-36e444caedf7",
   "metadata": {
    "editable": true,
    "slideshow": {
     "slide_type": ""
    },
    "tags": []
   },
   "source": [
    "# Магические команды Jupyter"
   ]
  },
  {
   "cell_type": "code",
   "execution_count": 1,
   "id": "4cf9afce-7738-46d6-b943-0fcc12e0a5d8",
   "metadata": {
    "editable": true,
    "slideshow": {
     "slide_type": ""
    },
    "tags": []
   },
   "outputs": [
    {
     "data": {
      "application/json": {
       "cell": {
        "!": "OSMagics",
        "HTML": "Other",
        "SVG": "Other",
        "bash": "Other",
        "capture": "ExecutionMagics",
        "cmd": "Other",
        "code_wrap": "ExecutionMagics",
        "debug": "ExecutionMagics",
        "file": "Other",
        "html": "DisplayMagics",
        "javascript": "DisplayMagics",
        "js": "DisplayMagics",
        "latex": "DisplayMagics",
        "markdown": "DisplayMagics",
        "perl": "Other",
        "prun": "ExecutionMagics",
        "pypy": "Other",
        "python": "Other",
        "python2": "Other",
        "python3": "Other",
        "ruby": "Other",
        "script": "ScriptMagics",
        "sh": "Other",
        "svg": "DisplayMagics",
        "sx": "OSMagics",
        "system": "OSMagics",
        "time": "ExecutionMagics",
        "timeit": "ExecutionMagics",
        "writefile": "OSMagics"
       },
       "line": {
        "alias": "OSMagics",
        "alias_magic": "BasicMagics",
        "autoawait": "AsyncMagics",
        "autocall": "AutoMagics",
        "automagic": "AutoMagics",
        "autosave": "KernelMagics",
        "bookmark": "OSMagics",
        "cd": "OSMagics",
        "clear": "KernelMagics",
        "cls": "KernelMagics",
        "code_wrap": "ExecutionMagics",
        "colors": "BasicMagics",
        "conda": "PackagingMagics",
        "config": "ConfigMagics",
        "connect_info": "KernelMagics",
        "copy": "Other",
        "ddir": "Other",
        "debug": "ExecutionMagics",
        "dhist": "OSMagics",
        "dirs": "OSMagics",
        "doctest_mode": "BasicMagics",
        "echo": "Other",
        "ed": "Other",
        "edit": "KernelMagics",
        "env": "OSMagics",
        "gui": "BasicMagics",
        "hist": "Other",
        "history": "HistoryMagics",
        "killbgscripts": "ScriptMagics",
        "ldir": "Other",
        "less": "KernelMagics",
        "load": "CodeMagics",
        "load_ext": "ExtensionMagics",
        "loadpy": "CodeMagics",
        "logoff": "LoggingMagics",
        "logon": "LoggingMagics",
        "logstart": "LoggingMagics",
        "logstate": "LoggingMagics",
        "logstop": "LoggingMagics",
        "ls": "Other",
        "lsmagic": "BasicMagics",
        "macro": "ExecutionMagics",
        "magic": "BasicMagics",
        "mamba": "PackagingMagics",
        "matplotlib": "PylabMagics",
        "micromamba": "PackagingMagics",
        "mkdir": "Other",
        "more": "KernelMagics",
        "notebook": "BasicMagics",
        "page": "BasicMagics",
        "pastebin": "CodeMagics",
        "pdb": "ExecutionMagics",
        "pdef": "NamespaceMagics",
        "pdoc": "NamespaceMagics",
        "pfile": "NamespaceMagics",
        "pinfo": "NamespaceMagics",
        "pinfo2": "NamespaceMagics",
        "pip": "PackagingMagics",
        "popd": "OSMagics",
        "pprint": "BasicMagics",
        "precision": "BasicMagics",
        "prun": "ExecutionMagics",
        "psearch": "NamespaceMagics",
        "psource": "NamespaceMagics",
        "pushd": "OSMagics",
        "pwd": "OSMagics",
        "pycat": "OSMagics",
        "pylab": "PylabMagics",
        "qtconsole": "KernelMagics",
        "quickref": "BasicMagics",
        "recall": "HistoryMagics",
        "rehashx": "OSMagics",
        "reload_ext": "ExtensionMagics",
        "ren": "Other",
        "rep": "Other",
        "rerun": "HistoryMagics",
        "reset": "NamespaceMagics",
        "reset_selective": "NamespaceMagics",
        "rmdir": "Other",
        "run": "ExecutionMagics",
        "save": "CodeMagics",
        "sc": "OSMagics",
        "set_env": "OSMagics",
        "store": "StoreMagics",
        "sx": "OSMagics",
        "system": "OSMagics",
        "tb": "ExecutionMagics",
        "time": "ExecutionMagics",
        "timeit": "ExecutionMagics",
        "unalias": "OSMagics",
        "unload_ext": "ExtensionMagics",
        "who": "NamespaceMagics",
        "who_ls": "NamespaceMagics",
        "whos": "NamespaceMagics",
        "xdel": "NamespaceMagics",
        "xmode": "BasicMagics"
       }
      },
      "text/plain": [
       "Available line magics:\n",
       "%alias  %alias_magic  %autoawait  %autocall  %automagic  %autosave  %bookmark  %cd  %clear  %cls  %code_wrap  %colors  %conda  %config  %connect_info  %copy  %ddir  %debug  %dhist  %dirs  %doctest_mode  %echo  %ed  %edit  %env  %gui  %hist  %history  %killbgscripts  %ldir  %less  %load  %load_ext  %loadpy  %logoff  %logon  %logstart  %logstate  %logstop  %ls  %lsmagic  %macro  %magic  %mamba  %matplotlib  %micromamba  %mkdir  %more  %notebook  %page  %pastebin  %pdb  %pdef  %pdoc  %pfile  %pinfo  %pinfo2  %pip  %popd  %pprint  %precision  %prun  %psearch  %psource  %pushd  %pwd  %pycat  %pylab  %qtconsole  %quickref  %recall  %rehashx  %reload_ext  %ren  %rep  %rerun  %reset  %reset_selective  %rmdir  %run  %save  %sc  %set_env  %store  %sx  %system  %tb  %time  %timeit  %unalias  %unload_ext  %who  %who_ls  %whos  %xdel  %xmode\n",
       "\n",
       "Available cell magics:\n",
       "%%!  %%HTML  %%SVG  %%bash  %%capture  %%cmd  %%code_wrap  %%debug  %%file  %%html  %%javascript  %%js  %%latex  %%markdown  %%perl  %%prun  %%pypy  %%python  %%python2  %%python3  %%ruby  %%script  %%sh  %%svg  %%sx  %%system  %%time  %%timeit  %%writefile\n",
       "\n",
       "Automagic is ON, % prefix IS NOT needed for line magics."
      ]
     },
     "execution_count": 1,
     "metadata": {},
     "output_type": "execute_result"
    }
   ],
   "source": [
    "%lsmagic"
   ]
  },
  {
   "cell_type": "code",
   "execution_count": 22,
   "id": "6ad213e1-eb12-49df-95be-f6bd202a08bb",
   "metadata": {},
   "outputs": [
    {
     "name": "stdout",
     "output_type": "stream",
     "text": [
      "CPU times: total: 0 ns\n",
      "Wall time: 0 ns\n"
     ]
    }
   ],
   "source": [
    "%time\n",
    "a=0\n",
    "for i in range(10000):\n",
    "    a += i"
   ]
  },
  {
   "cell_type": "code",
   "execution_count": 23,
   "id": "0979f522-b85d-4bb9-9234-630f3f02e916",
   "metadata": {},
   "outputs": [
    {
     "name": "stdout",
     "output_type": "stream",
     "text": [
      "35.9 ns ± 7.17 ns per loop (mean ± std. dev. of 7 runs, 10,000,000 loops each)\n"
     ]
    }
   ],
   "source": [
    "%%timeit\n",
    "a=0"
   ]
  },
  {
   "cell_type": "code",
   "execution_count": 29,
   "id": "322a4689-f3a0-4b7f-9765-99d42d2b4b05",
   "metadata": {
    "editable": true,
    "slideshow": {
     "slide_type": ""
    },
    "tags": []
   },
   "outputs": [
    {
     "name": "stdout",
     "output_type": "stream",
     "text": [
      "Overwriting script.py\n"
     ]
    }
   ],
   "source": [
    "%%writefile script.py\n",
    "print(\"My name is Zhenya\")\n",
    "!python script.py"
   ]
  },
  {
   "cell_type": "code",
   "execution_count": 1,
   "id": "2d50c703-a7c4-4ee7-9741-68d10f0ba0e9",
   "metadata": {},
   "outputs": [
    {
     "name": "stdout",
     "output_type": "stream",
     "text": [
      " Том в устройстве C не имеет метки.\n",
      " Серийный номер тома: FE8A-519A\n",
      "\n",
      " Содержимое папки C:\\Users\\zenan_000\\Desktop\\python\\ml_1\n",
      "\n",
      "29.05.2025  23:24    <DIR>          .\n",
      "29.05.2025  23:24    <DIR>          ..\n",
      "22.05.2025  16:46             3 617 .gitignore\n",
      "29.05.2025  23:21    <DIR>          .ipynb_checkpoints\n",
      "29.05.2025  23:07             3 553 Fifth Notebook.ipynb\n",
      "29.05.2025  21:38            32 384 First Notebook.ipynb\n",
      "29.05.2025  23:20             2 675 Fourth Notebook.ipynb\n",
      "22.05.2025  16:46             1 094 LICENSE\n",
      "29.05.2025  23:23           575 361 photo.jpg\n",
      "22.05.2025  16:46                 6 README.md\n",
      "29.05.2025  21:27                47 script.py\n",
      "29.05.2025  23:20             3 759 Second Notebook.ipynb\n",
      "29.05.2025  21:28            11 331 Third Notebook.ipynb\n",
      "              10 файлов        633 827 байт\n",
      "               3 папок  88 249 389 056 байт свободно\n"
     ]
    }
   ],
   "source": [
    "%ls"
   ]
  },
  {
   "cell_type": "code",
   "execution_count": 28,
   "id": "50de8972-babf-49a3-ad66-6370a745643d",
   "metadata": {},
   "outputs": [
    {
     "name": "stdout",
     "output_type": "stream",
     "text": [
      "%lsmagic\n",
      "%time\n",
      "i = 1\n",
      "%time\n",
      "i = 1 \n",
      "i**100\n",
      "%time\n",
      "i = 1 \n",
      "i**1000\n",
      "%time\n",
      "i = 1 \n",
      "i**10000\n",
      "%time\n",
      "i = 1 \n",
      "i**1000000\n",
      "%time\n",
      "i = 5\n",
      "%time\n",
      "i = 5 \n",
      "o = i*100\n",
      "%time\n",
      "i = 5 \n",
      "o = i*1000\n",
      "%time\n",
      "i = 5 \n",
      "o = i*10000\n",
      "%time\n",
      "i = 5 \n",
      "o = i*100000\n",
      "%time\n",
      "i = 5 \n",
      "o = i*1000000\n",
      "%time\n",
      "i = 5 \n",
      "o = i*1000000000\n",
      "%time\n",
      "i = 5 \n",
      "o = i*1000000000000\n",
      "%time\n",
      "i = 5 \n",
      "o = i*100000000000000\n",
      "%time\n",
      "for i in range(100):\n",
      "    a += i\n",
      "%time\n",
      "a=0\n",
      "for i in range(100):\n",
      "    a += i\n",
      "%time\n",
      "a=0\n",
      "for i in range(10000):\n",
      "    a += i\n",
      "%time\n",
      "a=0\n",
      "for i in range(10000000):\n",
      "    a += i\n",
      "%time\n",
      "a=0\n",
      "for i in range(10000000000):\n",
      "    a += i\n",
      "%time\n",
      "a=0\n",
      "for i in range(10000000000):\n",
      "    a += i\n",
      "%time\n",
      "a=0\n",
      "for i in range(10000):\n",
      "    a += i\n",
      "%%timeit\n",
      "a=0\n",
      "%%writefile /Desktop script.py\n",
      "print(\"My name is Zhenya\")\n",
      "!python script.py\n",
      "%%writefile /Desktop script.py\n",
      "print(\"My name is Zhenya\")\n",
      "%%writefile script.py\n",
      "print(\"My name is Zhenya\")\n",
      "!python script.py\n",
      "%ls\n",
      "%history\n"
     ]
    }
   ],
   "source": [
    "%history "
   ]
  },
  {
   "cell_type": "code",
   "execution_count": null,
   "id": "37a2b0e7-7458-4df2-8102-f5d5c4e97816",
   "metadata": {},
   "outputs": [],
   "source": []
  }
 ],
 "metadata": {
  "kernelspec": {
   "display_name": "Python [conda env:base] *",
   "language": "python",
   "name": "conda-base-py"
  },
  "language_info": {
   "codemirror_mode": {
    "name": "ipython",
    "version": 3
   },
   "file_extension": ".py",
   "mimetype": "text/x-python",
   "name": "python",
   "nbconvert_exporter": "python",
   "pygments_lexer": "ipython3",
   "version": "3.12.7"
  }
 },
 "nbformat": 4,
 "nbformat_minor": 5
}
