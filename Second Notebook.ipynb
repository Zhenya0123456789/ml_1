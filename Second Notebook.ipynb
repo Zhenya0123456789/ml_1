{
 "cells": [
  {
   "cell_type": "markdown",
   "id": "1af4ba73-f7b0-415a-a8ca-08e9b1a86d6c",
   "metadata": {
    "editable": true,
    "slideshow": {
     "slide_type": ""
    },
    "tags": []
   },
   "source": [
    "# Практическое задание №1"
   ]
  },
  {
   "cell_type": "markdown",
   "id": "07f19a9d-9da1-4bdb-b781-deca73d65023",
   "metadata": {},
   "source": [
    "**Жирный текст**"
   ]
  },
  {
   "cell_type": "markdown",
   "id": "cbeac304-afaf-469a-a267-e1b74d0db5f1",
   "metadata": {},
   "source": [
    "*Курсивный текст*"
   ]
  },
  {
   "cell_type": "markdown",
   "id": "c678f64c-71f1-4ad2-bec5-5e2204c2736d",
   "metadata": {
    "editable": true,
    "slideshow": {
     "slide_type": ""
    },
    "tags": []
   },
   "source": [
    "1. Нумерованый\n",
    "2. Список "
   ]
  },
  {
   "cell_type": "markdown",
   "id": "28bbcfa1-6528-4012-89f5-6a10b1a61a6e",
   "metadata": {},
   "source": [
    "* Маркированый\n",
    "* Список"
   ]
  },
  {
   "cell_type": "markdown",
   "id": "0d564202-d3b7-47ad-833f-b90dd6b2bf3d",
   "metadata": {},
   "source": [
    "$$\n",
    "A = \\int_{a}^{b} \\left| f(x) - g(x) \\right| \\, dx\n",
    "$$"
   ]
  },
  {
   "cell_type": "markdown",
   "id": "061e7b1f-7955-42a7-9329-5f4892d72aa1",
   "metadata": {
    "editable": true,
    "slideshow": {
     "slide_type": ""
    },
    "tags": []
   },
   "source": [
    "![Ставроополь](https://ставрополь.рф/upload/iblock/872/turisty.jpg)"
   ]
  },
  {
   "cell_type": "code",
   "execution_count": 2,
   "id": "38f10a57-0f4c-47f4-922f-91d8483b5500",
   "metadata": {
    "editable": true,
    "slideshow": {
     "slide_type": ""
    },
    "tags": []
   },
   "outputs": [
    {
     "name": "stdin",
     "output_type": "stream",
     "text": [
      " Zhenya\n"
     ]
    },
    {
     "name": "stdout",
     "output_type": "stream",
     "text": [
      "Привет Zhenya, дборо пожаловать в Jupyter Lab!\n"
     ]
    }
   ],
   "source": [
    "x = input()\n",
    "print(f\"Привет {x}, дборо пожаловать в Jupyter Lab!\")"
   ]
  },
  {
   "cell_type": "code",
   "execution_count": 3,
   "id": "c4adeaf3-e703-4c18-8d4f-20ad7c671ff3",
   "metadata": {
    "editable": true,
    "slideshow": {
     "slide_type": ""
    },
    "tags": []
   },
   "outputs": [
    {
     "name": "stdout",
     "output_type": "stream",
     "text": [
      "Содержимое файла:  \n",
      " 1)Первая строка \n",
      " 2)Вторая строка\n",
      "Файл существует: True\n",
      "Файл удален.\n"
     ]
    }
   ],
   "source": [
    "import os\n",
    "\n",
    "with open(\"file.txt\",\"w\") as file:\n",
    "    file.write(\"\\n 1)Первая строка \\n 2)Вторая строка\")\n",
    "\n",
    "with open(\"file.txt\", \"r\") as file:\n",
    "    print(\"Содержимое файла: \", file.read())\n",
    "\n",
    "print(\"Файл существует:\", os.path.exists(\"file.txt\"))\n",
    "\n",
    "os.remove(\"file.txt\")\n",
    "print(\"Файл удален.\")"
   ]
  }
 ],
 "metadata": {
  "kernelspec": {
   "display_name": "Python [conda env:base] *",
   "language": "python",
   "name": "conda-base-py"
  },
  "language_info": {
   "codemirror_mode": {
    "name": "ipython",
    "version": 3
   },
   "file_extension": ".py",
   "mimetype": "text/x-python",
   "name": "python",
   "nbconvert_exporter": "python",
   "pygments_lexer": "ipython3",
   "version": "3.12.7"
  },
  "panel-cell-order": [
   "b3695edd-2bc2-452d-beed-dc90e0e8b2ce"
  ]
 },
 "nbformat": 4,
 "nbformat_minor": 5
}
